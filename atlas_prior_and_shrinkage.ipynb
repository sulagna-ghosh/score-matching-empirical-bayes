{
 "cells": [
  {
   "cell_type": "markdown",
   "id": "dcb0ddf7",
   "metadata": {},
   "source": [
    "This notebook trains EB estimators on the Opportunity Atlas dataset (following the motivating example in [Jiafeng Chen's](https://github.com/jiafengkevinchen/close-replication/) \"Empirical Bayes When Estimation Precision Predicts Parameters\"). After training the EB estimators, this notebook\n",
    "1. Saves the shrinkage rules as a csv.\n",
    "2. Obtains the priors of SURE-PM and NPMLE.\n"
   ]
  },
  {
   "cell_type": "markdown",
   "id": "5df1eb5c",
   "metadata": {},
   "source": [
    "# Set up"
   ]
  },
  {
   "cell_type": "code",
   "execution_count": 1,
   "id": "88cd5930",
   "metadata": {},
   "outputs": [
    {
     "name": "stdout",
     "output_type": "stream",
     "text": [
      "simulate_data.py: device = cpu\n"
     ]
    }
   ],
   "source": [
    "import sys  \n",
    "import os\n",
    "\n",
    "module_path = os.path.abspath(os.path.join('..'))\n",
    "if module_path not in sys.path:\n",
    "    sys.path.append(module_path)\n",
    "\n",
    "import pandas as pd \n",
    "import numpy as np\n",
    "import torch as tr\n",
    "\n",
    "# Our EB methods\n",
    "from train import train_no_covariates as train_no_covariates\n",
    "from train import train_npmle as train_npmle\n",
    "from train import train_covariates as train_covariates\n",
    "from train import train_sure_ls as train_sure_ls\n"
   ]
  },
  {
   "cell_type": "code",
   "execution_count": 3,
   "id": "4ab9c043",
   "metadata": {},
   "outputs": [],
   "source": [
    "def load_data_for_outcome(est_var, input_dir=\"atlas_data/oa_data_used.feather\"):\n",
    "    \"\"\"\n",
    "    Load the processed data for a given outcome variable\n",
    "    Filter out missing values and values where the standard error is too large\n",
    "    \"\"\"\n",
    "    df = pd.read_feather(input_dir)\n",
    "    se_var = est_var + \"_se\"\n",
    "    subset = df[[est_var, se_var, \"czname\", \"state\", \"county\", \"tract\"] + clean_covariates].dropna()\n",
    "    thresh = subset[se_var].quantile(0.995)\n",
    "    subset = subset.loc[subset[se_var] <= thresh].reset_index(drop=True)\n",
    "\n",
    "    return subset\n",
    "\n",
    "clean_covariates = ['par_rank_pooled_pooled_mean',\n",
    " 'par_rank_black_pooled_mean',\n",
    " 'poor_share2010',\n",
    " 'share_black2010',\n",
    " 'hhinc_mean2000',\n",
    " 'ln_wage_growth_hs_grad',\n",
    " 'frac_coll_plus2010',\n",
    " 'log_kid_black_pooled_blw_p50_n',\n",
    " 'log_kid_pooled_pooled_blw_p50_n']\n",
    "est_var = \"kfr_top20_black_pooled_p25\"\n",
    "\n",
    "df = load_data_for_outcome(est_var)\n",
    "estimates = df[est_var].values\n",
    "sigma_np = df[est_var + \"_se\"].values\n",
    "\n",
    "n = df.shape[0]\n",
    "B = 100\n",
    "device=\"cpu\"\n",
    "Z = tr.tensor(estimates).to(device)\n",
    "X_sigma = tr.tensor(sigma_np.reshape(n, 1)).to(device)\n",
    "\n",
    "use_location = False\n",
    "use_scale = True\n",
    "set_seed_thing = 15 # for debugging, not for simulation\n",
    "\n",
    "zeros_for_theta = np.zeros((n,))\n"
   ]
  },
  {
   "cell_type": "code",
   "execution_count": 4,
   "id": "48da27cb",
   "metadata": {},
   "outputs": [
    {
     "name": "stdout",
     "output_type": "stream",
     "text": [
      "The mean of the standard errors is 0.0029098331424100635.\n"
     ]
    }
   ],
   "source": [
    "print(f\"The mean of the standard errors is {np.mean(sigma_np**2)}.\")"
   ]
  },
  {
   "cell_type": "markdown",
   "id": "d21a4ff7",
   "metadata": {},
   "source": [
    "# Only sigma for X"
   ]
  },
  {
   "cell_type": "markdown",
   "id": "4f229136",
   "metadata": {},
   "source": [
    "## Train"
   ]
  },
  {
   "cell_type": "code",
   "execution_count": null,
   "id": "4c406d03",
   "metadata": {},
   "outputs": [],
   "source": [
    "# NPMLE\n",
    "prob_NPMLE, loss_NPMLE, score_NPMLE, theta_hat_NPMLE, two_norm_difference_NPMLE, pi_hat_NPMLE = train_npmle(n, B, Z, zeros_for_theta, X_sigma)"
   ]
  },
  {
   "cell_type": "code",
   "execution_count": null,
   "id": "4b695f19",
   "metadata": {},
   "outputs": [],
   "source": [
    "# SURE-PM\n",
    "model_pm, losses_pm, scores_pm, theta_hats_pm, fake_two_norm_differences_pm = train_no_covariates(n, B, Z, zeros_for_theta, X_sigma, use_location=use_location, use_scale = use_scale)"
   ]
  },
  {
   "cell_type": "code",
   "execution_count": null,
   "id": "8531f451",
   "metadata": {},
   "outputs": [],
   "source": [
    "# SURE-THING \n",
    "model_thing, feature_representation, losses_SURE_thing, losses_NLL_thing, scores_thing, theta_hats_thing, fake_two_norm_differences_thing = train_covariates(X_sigma, Z, zeros_for_theta, use_location = use_location, use_scale = use_scale,\n",
    "                                                                                                                                                             hidden_sizes=(8,8), set_seed=set_seed_thing)\n"
   ]
  },
  {
   "cell_type": "code",
   "execution_count": null,
   "id": "4b59ea04",
   "metadata": {},
   "outputs": [],
   "source": [
    "# SURE-LS \n",
    "model_ls, feature_representation_ls, losses_ls, scores_ls, theta_hats_ls, fake_two_norm_differences_ls = train_sure_ls(X_sigma, Z, zeros_for_theta, objective=\"SURE\", set_seed = set_seed_thing, d=2)"
   ]
  },
  {
   "cell_type": "markdown",
   "id": "245fab87",
   "metadata": {},
   "source": [
    "# Save shrinkage results for plotting in R"
   ]
  },
  {
   "cell_type": "code",
   "execution_count": null,
   "id": "40379475",
   "metadata": {},
   "outputs": [],
   "source": [
    "theta_hat_dict = {'NPMLE': theta_hat_NPMLE,\n",
    "                  'SURE-PM': theta_hats_pm[-1,:],\n",
    "                  'SURE-THING': theta_hats_thing[-1,:],\n",
    "                  'SURE-LS': theta_hats_ls[-1,:],\n",
    "                  'Z (MLE)': df['kfr_top20_black_pooled_p25'].values,\n",
    "                  'log-sigma': np.log10(df['kfr_top20_black_pooled_p25_se'].values)}"
   ]
  },
  {
   "cell_type": "code",
   "execution_count": null,
   "id": "9e8fe56e",
   "metadata": {},
   "outputs": [],
   "source": [
    "pd.DataFrame(theta_hat_dict).to_csv(\"atlas_results/shrinkage_rule.csv\")"
   ]
  },
  {
   "cell_type": "markdown",
   "id": "2e81e531",
   "metadata": {},
   "source": [
    "# Get prior on Atlas dataset"
   ]
  },
  {
   "cell_type": "code",
   "execution_count": null,
   "id": "e6ffbed0",
   "metadata": {},
   "outputs": [],
   "source": [
    "pi_hat_npmle = pi_hat_NPMLE\n",
    "\n",
    "theta_grid_npmle = np.linspace(max(Z).item(), min(Z).item(), B)\n",
    "\n",
    "theta_grid_pm, pi_hat_pm = model_pm.get_theta_grid_and_pi(n, B)\n",
    "theta_grid_pm = theta_grid_pm[0,]\n",
    "pi_hat_pm = pi_hat_pm[0,]"
   ]
  },
  {
   "cell_type": "code",
   "execution_count": null,
   "id": "bd726124",
   "metadata": {},
   "outputs": [
    {
     "name": "stdout",
     "output_type": "stream",
     "text": [
      "NPMLE pi hat: tensor([0.0000e+00, 0.0000e+00, 0.0000e+00, 0.0000e+00, 0.0000e+00, 0.0000e+00,\n",
      "        0.0000e+00, 0.0000e+00, 0.0000e+00, 0.0000e+00, 0.0000e+00, 0.0000e+00,\n",
      "        0.0000e+00, 0.0000e+00, 0.0000e+00, 0.0000e+00, 0.0000e+00, 0.0000e+00,\n",
      "        0.0000e+00, 4.9099e-04, 0.0000e+00, 0.0000e+00, 0.0000e+00, 0.0000e+00,\n",
      "        0.0000e+00, 0.0000e+00, 8.4995e-04, 1.8166e-09, 0.0000e+00, 0.0000e+00,\n",
      "        0.0000e+00, 1.2358e-03, 0.0000e+00, 2.8937e-04, 1.1193e-01, 1.5913e-01,\n",
      "        2.1244e-01, 2.0883e-01, 1.4932e-08, 1.2695e-01, 7.7585e-02, 5.7724e-02,\n",
      "        3.7040e-10, 2.4492e-10, 2.8456e-02, 1.1694e-02, 0.0000e+00, 0.0000e+00,\n",
      "        0.0000e+00, 0.0000e+00, 0.0000e+00, 0.0000e+00, 0.0000e+00, 0.0000e+00,\n",
      "        0.0000e+00, 0.0000e+00, 1.3483e-03, 7.2037e-10, 0.0000e+00, 0.0000e+00,\n",
      "        0.0000e+00, 0.0000e+00, 0.0000e+00, 0.0000e+00, 0.0000e+00, 0.0000e+00,\n",
      "        0.0000e+00, 0.0000e+00, 0.0000e+00, 0.0000e+00, 0.0000e+00, 0.0000e+00,\n",
      "        0.0000e+00, 0.0000e+00, 1.0515e-09, 4.8712e-04, 4.1232e-04, 1.5937e-09,\n",
      "        5.4153e-10, 2.6135e-10, 3.0940e-10, 7.5589e-10, 2.7498e-09, 1.3693e-04,\n",
      "        1.3571e-08, 6.4660e-10, 0.0000e+00, 0.0000e+00, 0.0000e+00, 0.0000e+00,\n",
      "        0.0000e+00, 0.0000e+00, 0.0000e+00, 0.0000e+00, 0.0000e+00, 0.0000e+00,\n",
      "        0.0000e+00, 0.0000e+00, 0.0000e+00, 0.0000e+00], dtype=torch.float64)\n",
      "NPMLE theta grid: tensor([ 0.5738,  0.5651,  0.5564,  0.5477,  0.5390,  0.5302,  0.5215,  0.5128,\n",
      "         0.5041,  0.4954,  0.4867,  0.4780,  0.4693,  0.4606,  0.4519,  0.4432,\n",
      "         0.4344,  0.4257,  0.4170,  0.4083,  0.3996,  0.3909,  0.3822,  0.3735,\n",
      "         0.3648,  0.3561,  0.3474,  0.3387,  0.3299,  0.3212,  0.3125,  0.3038,\n",
      "         0.2951,  0.2864,  0.2777,  0.2690,  0.2603,  0.2516,  0.2429,  0.2341,\n",
      "         0.2254,  0.2167,  0.2080,  0.1993,  0.1906,  0.1819,  0.1732,  0.1645,\n",
      "         0.1558,  0.1471,  0.1384,  0.1296,  0.1209,  0.1122,  0.1035,  0.0948,\n",
      "         0.0861,  0.0774,  0.0687,  0.0600,  0.0513,  0.0426,  0.0338,  0.0251,\n",
      "         0.0164,  0.0077, -0.0010, -0.0097, -0.0184, -0.0271, -0.0358, -0.0445,\n",
      "        -0.0532, -0.0619, -0.0707, -0.0794, -0.0881, -0.0968, -0.1055, -0.1142,\n",
      "        -0.1229, -0.1316, -0.1403, -0.1490, -0.1577, -0.1665, -0.1752, -0.1839,\n",
      "        -0.1926, -0.2013, -0.2100, -0.2187, -0.2274, -0.2361, -0.2448, -0.2535,\n",
      "        -0.2622, -0.2710, -0.2797, -0.2884], dtype=torch.float64)\n"
     ]
    }
   ],
   "source": [
    "print(f\"NPMLE pi hat: {pi_hat_npmle}\")\n",
    "print(f\"NPMLE theta grid: {tr.tensor(theta_grid_npmle)}\")"
   ]
  },
  {
   "cell_type": "code",
   "execution_count": null,
   "id": "67c77b70",
   "metadata": {},
   "outputs": [
    {
     "name": "stdout",
     "output_type": "stream",
     "text": [
      "SURE-PM pi hat: tensor([4.2038e-05, 7.2076e-05, 1.6573e-04, 3.2345e-04, 1.5166e-04, 5.6359e-05,\n",
      "        2.0210e-05, 6.6435e-05, 1.7774e-04, 1.6753e-04, 1.4053e-04, 1.9507e-04,\n",
      "        2.6089e-04, 2.9923e-04, 3.4886e-04, 4.3542e-04, 5.5036e-04, 6.6524e-04,\n",
      "        7.4505e-04, 7.8211e-04, 7.9154e-04, 7.9376e-04, 8.6032e-04, 1.0423e-03,\n",
      "        1.2671e-03, 1.4847e-03, 1.7183e-03, 1.9070e-03, 2.0200e-03, 2.2079e-03,\n",
      "        2.6337e-03, 3.1373e-03, 3.3164e-03, 3.1520e-03, 3.1325e-03, 3.6482e-03,\n",
      "        4.7467e-03, 6.3289e-03, 8.1328e-03, 9.6056e-03, 1.0194e-02, 9.9220e-03,\n",
      "        9.3005e-03, 8.7439e-03, 8.3046e-03, 7.7384e-03, 6.7941e-03, 5.7958e-03,\n",
      "        6.2386e-03, 1.0190e-02, 2.1387e-02, 4.5698e-02, 4.9681e-02, 2.6404e-02,\n",
      "        1.3398e-02, 7.4874e-03, 3.9924e-03, 1.7042e-03, 2.4928e-03, 3.8033e-03,\n",
      "        5.4037e-03, 7.4331e-03, 1.0052e-02, 1.3460e-02, 1.7888e-02, 2.3557e-02,\n",
      "        3.0559e-02, 3.8619e-02, 4.6782e-02, 5.3322e-02, 5.6370e-02, 5.5103e-02,\n",
      "        5.0323e-02, 4.3720e-02, 3.6814e-02, 3.0489e-02, 2.5079e-02, 2.0609e-02,\n",
      "        1.6971e-02, 1.4023e-02, 1.1630e-02, 9.6771e-03, 8.0707e-03, 6.7379e-03,\n",
      "        5.6212e-03, 4.6758e-03, 3.8666e-03, 3.1657e-03, 2.5506e-03, 2.0027e-03,\n",
      "        1.5059e-03, 1.0437e-03, 5.9184e-04, 2.2026e-04, 8.3487e-04, 1.5209e-03,\n",
      "        2.1470e-03, 2.7801e-03, 3.5039e-03, 4.4119e-03],\n",
      "       grad_fn=<SelectBackward0>)\n",
      "SURE-PM theta grid: tensor([-3.6618e-01, -3.4025e-01, -3.2663e-01, -3.1930e-01, -3.1277e-01,\n",
      "        -3.0241e-01, -2.7552e-01, -1.1519e-01, -1.0412e-01, -9.3036e-02,\n",
      "        -7.3994e-02, -5.8163e-02, -4.9047e-02, -4.1481e-02, -3.4655e-02,\n",
      "        -2.9089e-02, -2.4693e-02, -2.1024e-02, -1.7690e-02, -1.4396e-02,\n",
      "        -1.0954e-02, -7.2471e-03, -3.4695e-03, -3.1349e-04,  2.1545e-03,\n",
      "         4.2874e-03,  6.2278e-03,  8.0885e-03,  1.0018e-02,  1.2056e-02,\n",
      "         1.3999e-02,  1.5757e-02,  1.7524e-02,  1.9601e-02,  2.2173e-02,\n",
      "         2.4796e-02,  2.6938e-02,  2.8625e-02,  3.0045e-02,  3.1352e-02,\n",
      "         3.2662e-02,  3.4073e-02,  3.5662e-02,  3.7483e-02,  3.9575e-02,\n",
      "         4.2018e-02,  4.5087e-02,  4.9484e-02,  5.5504e-02,  5.9784e-02,\n",
      "         6.1988e-02,  6.3228e-02,  6.4075e-02,  6.4850e-02,  6.5739e-02,\n",
      "         6.6951e-02,  6.9162e-02,  7.8538e-02,  1.0625e-01,  1.0991e-01,\n",
      "         1.1163e-01,  1.1273e-01,  1.1354e-01,  1.1418e-01,  1.1472e-01,\n",
      "         1.1517e-01,  1.1558e-01,  1.1595e-01,  1.1628e-01,  1.1660e-01,\n",
      "         1.1691e-01,  1.1721e-01,  1.1751e-01,  1.1782e-01,  1.1814e-01,\n",
      "         1.1847e-01,  1.1883e-01,  1.1921e-01,  1.1962e-01,  1.2006e-01,\n",
      "         1.2056e-01,  1.2110e-01,  1.2172e-01,  1.2241e-01,  1.2322e-01,\n",
      "         1.2416e-01,  1.2528e-01,  1.2667e-01,  1.2844e-01,  1.3082e-01,\n",
      "         1.3429e-01,  1.4018e-01,  1.5437e-01,  2.7540e-01,  3.3852e-01,\n",
      "         3.5239e-01,  3.5863e-01,  3.6224e-01,  3.6458e-01,  3.6618e-01],\n",
      "       grad_fn=<SelectBackward0>)\n"
     ]
    }
   ],
   "source": [
    "print(f\"SURE-PM pi hat: {pi_hat_pm}\")\n",
    "print(f\"SURE-PM theta grid: {theta_grid_pm}\")"
   ]
  }
 ],
 "metadata": {
  "kernelspec": {
   "display_name": "nn_env",
   "language": "python",
   "name": "python3"
  },
  "language_info": {
   "codemirror_mode": {
    "name": "ipython",
    "version": 3
   },
   "file_extension": ".py",
   "mimetype": "text/x-python",
   "name": "python",
   "nbconvert_exporter": "python",
   "pygments_lexer": "ipython3",
   "version": "3.12.2"
  }
 },
 "nbformat": 4,
 "nbformat_minor": 5
}
